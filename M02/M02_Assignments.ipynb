{
  "cells": [
    {
      "cell_type": "code",
      "execution_count": 2,
      "metadata": {
        "colab": {
          "base_uri": "https://localhost:8080/"
        },
        "id": "b8El1FpDxmon",
        "outputId": "ce68fd8f-ac57-4f00-a1ff-2df9892c15c0"
      },
      "outputs": [
        {
          "name": "stdout",
          "output_type": "stream",
          "text": [
            "too high\n"
          ]
        }
      ],
      "source": [
        "# 4.1\n",
        "secret = 2\n",
        "guess = 5\n",
        "\n",
        "if guess < secret:\n",
        "  print(\"too low\")\n",
        "elif guess > secret:\n",
        "  print(\"too high\")\n",
        "elif guess == secret:\n",
        "  print(\"just right\")"
      ]
    },
    {
      "cell_type": "code",
      "execution_count": 3,
      "metadata": {
        "colab": {
          "base_uri": "https://localhost:8080/"
        },
        "id": "_oV7zRUBzo9Q",
        "outputId": "7d3e658d-dc7c-4c9c-afe5-7558aff155c0"
      },
      "outputs": [
        {
          "name": "stdout",
          "output_type": "stream",
          "text": [
            "pea\n"
          ]
        }
      ],
      "source": [
        "# 4.2\n",
        "small = True\n",
        "green = True\n",
        "\n",
        "if (green):\n",
        "  if (small):\n",
        "    print(\"pea\")\n",
        "  else:\n",
        "    print(\"watermelon\")\n",
        "else:\n",
        "  if (small):\n",
        "    print(\"cherry\")\n",
        "  else:\n",
        "    print(\"pumpkin\")"
      ]
    },
    {
      "cell_type": "code",
      "execution_count": 4,
      "metadata": {
        "colab": {
          "base_uri": "https://localhost:8080/"
        },
        "id": "WHgsgiIc0aHg",
        "outputId": "f0eac86a-91a1-4b07-afb0-c7deddd30836"
      },
      "outputs": [
        {
          "name": "stdout",
          "output_type": "stream",
          "text": [
            "3\n",
            "2\n",
            "1\n",
            "0\n"
          ]
        }
      ],
      "source": [
        "# 6.1\n",
        "numb_list = [3, 2, 1, 0]\n",
        "\n",
        "for item in numb_list:\n",
        "  print(item)"
      ]
    },
    {
      "cell_type": "code",
      "execution_count": 5,
      "metadata": {
        "colab": {
          "base_uri": "https://localhost:8080/"
        },
        "id": "3RCQJh9X1dHx",
        "outputId": "fb3c1ce8-b711-45d4-f8fc-b5a1c0d9099e"
      },
      "outputs": [
        {
          "name": "stdout",
          "output_type": "stream",
          "text": [
            "too low\n",
            "too low\n",
            "too low\n",
            "too low\n",
            "too low\n",
            "too low\n",
            "found it\n",
            "oops\n"
          ]
        }
      ],
      "source": [
        "# 6.2\n",
        "guess_me = 7\n",
        "number = 1\n",
        "\n",
        "while True:\n",
        "  if number < guess_me:\n",
        "    print(\"too low\")\n",
        "  elif number == guess_me:\n",
        "    print(\"found it\")\n",
        "  elif number > guess_me:\n",
        "    print(\"oops\")\n",
        "    break\n",
        "  number += 1"
      ]
    },
    {
      "cell_type": "code",
      "execution_count": 20,
      "metadata": {
        "colab": {
          "base_uri": "https://localhost:8080/"
        },
        "id": "PiTHyVdN2LsY",
        "outputId": "a696976c-d702-41b8-e4fb-0cdba9168b16"
      },
      "outputs": [
        {
          "name": "stdout",
          "output_type": "stream",
          "text": [
            "too low\n",
            "too low\n",
            "too low\n",
            "too low\n",
            "too low\n",
            "too low\n",
            "too low\n",
            "found it!\n",
            "oops\n"
          ]
        }
      ],
      "source": [
        "# 6.3\n",
        "guess = 5\n",
        "\n",
        "for number in range(10):\n",
        "  if number < guess_me:\n",
        "    print(\"too low\")\n",
        "  elif number == guess_me:\n",
        "    print(\"found it!\")\n",
        "  elif number > guess_me:\n",
        "    print(\"oops\")\n",
        "    break"
      ]
    }
  ],
  "metadata": {
    "colab": {
      "provenance": []
    },
    "kernelspec": {
      "display_name": "Python 3",
      "name": "python3"
    },
    "language_info": {
      "codemirror_mode": {
        "name": "ipython",
        "version": 3
      },
      "file_extension": ".py",
      "mimetype": "text/x-python",
      "name": "python",
      "nbconvert_exporter": "python",
      "pygments_lexer": "ipython3",
      "version": "3.11.0"
    }
  },
  "nbformat": 4,
  "nbformat_minor": 0
}
