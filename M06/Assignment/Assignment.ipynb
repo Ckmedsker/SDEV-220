{
 "cells": [
  {
   "attachments": {},
   "cell_type": "markdown",
   "metadata": {},
   "source": [
    "## 13.1 Write the current date as a string to the text file today.txt."
   ]
  },
  {
   "cell_type": "code",
   "execution_count": 9,
   "metadata": {},
   "outputs": [],
   "source": [
    "from datetime import date\n",
    "now = str(date.today())\n",
    "with open(\"today.txt\", \"w\") as file:\n",
    "    file.write(now)\n",
    "    print(\"Successfully printed today's date to today.txt!\")"
   ]
  },
  {
   "attachments": {},
   "cell_type": "markdown",
   "metadata": {},
   "source": [
    "## 13.2 Read the text file today.txt into the string today_string."
   ]
  },
  {
   "cell_type": "code",
   "execution_count": 26,
   "metadata": {},
   "outputs": [
    {
     "name": "stdout",
     "output_type": "stream",
     "text": [
      "2023-04-30\n"
     ]
    }
   ],
   "source": [
    "with open(\"today.txt\", \"r\") as today:\n",
    "    today_string = today.read()\n",
    "    print(today_string)"
   ]
  },
  {
   "attachments": {},
   "cell_type": "markdown",
   "metadata": {},
   "source": [
    "## 13.3 Parse the date from today_string."
   ]
  },
  {
   "cell_type": "code",
   "execution_count": 29,
   "metadata": {},
   "outputs": [
    {
     "name": "stdout",
     "output_type": "stream",
     "text": [
      "2023-04-30\n"
     ]
    }
   ],
   "source": [
    "from datetime import datetime\n",
    "\n",
    "print(datetime.strptime(today_string, \"%Y-%m-%d\").date())"
   ]
  },
  {
   "attachments": {},
   "cell_type": "markdown",
   "metadata": {},
   "source": [
    "## 15.1 Use multiprocessing to create three separate processes. Make each one wait a random number of seconds between zero and one, print the current time, and then exit."
   ]
  },
  {
   "cell_type": "code",
   "execution_count": 8,
   "metadata": {},
   "outputs": [
    {
     "name": "stdout",
     "output_type": "stream",
     "text": [
      "The Day and time is Sun Apr 30 19:19:55 2023. Ran by process a in 0.903976160034333 seconds.\n",
      "The Day and time is Sun Apr 30 19:19:56 2023. Ran by process b in 0.9819730385301847 seconds.\n",
      "The Day and time is Sun Apr 30 19:19:57 2023. Ran by process c in 0.842678449492506 seconds.\n"
     ]
    }
   ],
   "source": [
    "from multiprocessing import Process\n",
    "import time\n",
    "import random\n",
    "\n",
    "def print_time(process):\n",
    "    rand = random.random()\n",
    "    now = time.ctime()\n",
    "    time.sleep(rand)\n",
    "    print(f\"The Day and time is {now}. Ran by process {process} in {rand} seconds.\")\n",
    "\n",
    "def main():\n",
    "    a = Process(target=print_time, args=\"a\",)\n",
    "    b = Process(target=print_time, args=\"b\",)\n",
    "    c = Process(target=print_time, args=\"c\",)\n",
    "    a.run()\n",
    "    b.run()\n",
    "    c.run()\n",
    "\n",
    "if __name__ == '__main__':\n",
    "    main()"
   ]
  }
 ],
 "metadata": {
  "kernelspec": {
   "display_name": "Python 3",
   "language": "python",
   "name": "python3"
  },
  "language_info": {
   "codemirror_mode": {
    "name": "ipython",
    "version": 3
   },
   "file_extension": ".py",
   "mimetype": "text/x-python",
   "name": "python",
   "nbconvert_exporter": "python",
   "pygments_lexer": "ipython3",
   "version": "3.11.3"
  },
  "orig_nbformat": 4
 },
 "nbformat": 4,
 "nbformat_minor": 2
}
